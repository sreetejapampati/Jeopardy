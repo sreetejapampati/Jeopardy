{
 "cells": [
  {
   "cell_type": "code",
   "execution_count": 2,
   "id": "82cd18bd",
   "metadata": {},
   "outputs": [
    {
     "name": "stdout",
     "output_type": "stream",
     "text": [
      "   Show Number    Air Date      Round                         Category  Value  \\\n",
      "0         4680  2004-12-31  Jeopardy!                          HISTORY   $200   \n",
      "1         4680  2004-12-31  Jeopardy!  ESPN's TOP 10 ALL-TIME ATHLETES   $200   \n",
      "2         4680  2004-12-31  Jeopardy!      EVERYBODY TALKS ABOUT IT...   $200   \n",
      "3         4680  2004-12-31  Jeopardy!                 THE COMPANY LINE   $200   \n",
      "4         4680  2004-12-31  Jeopardy!              EPITAPHS & TRIBUTES   $200   \n",
      "\n",
      "                                                                                                      Question  \\\n",
      "0             For the last 8 years of his life, Galileo was under house arrest for espousing this man's theory   \n",
      "1  No. 2: 1912 Olympian; football star at Carlisle Indian School; 6 MLB seasons with the Reds, Giants & Braves   \n",
      "2                     The city of Yuma in this state has a record average of 4,055 hours of sunshine each year   \n",
      "3                         In 1963, live on \"The Art Linkletter Show\", this company served its billionth burger   \n",
      "4     Signer of the Dec. of Indep., framer of the Constitution of Mass., second President of the United States   \n",
      "\n",
      "       Answer  \n",
      "0  Copernicus  \n",
      "1  Jim Thorpe  \n",
      "2     Arizona  \n",
      "3  McDonald's  \n",
      "4  John Adams  \n"
     ]
    }
   ],
   "source": [
    "import pandas as pd\n",
    "pd.set_option('display.max_colwidth', None)\n",
    "jeopardy = pd.read_csv(\"jeopardy.csv\")\n",
    "print(jeopardy.head())"
   ]
  },
  {
   "cell_type": "code",
   "execution_count": 3,
   "id": "c635546d",
   "metadata": {},
   "outputs": [],
   "source": [
    "jeopardy = jeopardy.rename(columns = {\" Air Date\": \"Air Date\", \" Round\" : \"Round\", \" Category\": \"Category\", \" Value\": \"Value\", \" Question\":\"Question\", \" Answer\": \"Answer\"})\n"
   ]
  },
  {
   "cell_type": "code",
   "execution_count": 4,
   "id": "788fca10",
   "metadata": {},
   "outputs": [],
   "source": [
    "def filtering_by_question(data, keywords):\n",
    "    filter = lambda x: all(word.lower() in x.lower() for word in keywords)\n",
    "    return data.loc[data[\"Question\"].apply(filter)]\n",
    "\n",
    "    "
   ]
  },
  {
   "cell_type": "code",
   "execution_count": 5,
   "id": "0bfe5902",
   "metadata": {},
   "outputs": [
    {
     "name": "stdout",
     "output_type": "stream",
     "text": [
      "4953                    Both England's King George V & FDR put their stamp of approval on this \"King of Hobbies\"\n",
      "6337      In retaliation for Viking raids, this \"Unready\" king of England attacks Norse areas of the Isle of Man\n",
      "9191                    This king of England beat the odds to trounce the French in the 1415 Battle of Agincourt\n",
      "11710               This Scotsman, the first Stuart king of England, was called \"The Wisest Fool in Christendom\"\n",
      "13454                                       It's the number that followed the last king of England named William\n",
      "                                                           ...                                                  \n",
      "208295        In 1066 this great-great grandson of Rollo made what some call the last Viking invasion of England\n",
      "208742                      Dutch-born king who ruled England jointly with Mary II & is a tasty New Zealand fish\n",
      "213870                In 1781 William Herschel discovered Uranus & initially named it after this king of England\n",
      "216021          His nickname was \"Bertie\", but he used this name & number when he became king of England in 1901\n",
      "216789        This kingdom of England grew from 2 settlements, one founded around 495 by Cerdic & his son Cynric\n",
      "Name: Question, Length: 152, dtype: object\n"
     ]
    }
   ],
   "source": [
    "filtered_king_england = filtering_by_question(jeopardy,[\"King\", \"England\"])\n",
    "print(filtered_king_england[\"Question\"])"
   ]
  },
  {
   "cell_type": "code",
   "execution_count": 6,
   "id": "708105ee",
   "metadata": {},
   "outputs": [
    {
     "name": "stdout",
     "output_type": "stream",
     "text": [
      "   Show Number    Air Date      Round                         Category Value  \\\n",
      "0         4680  2004-12-31  Jeopardy!                          HISTORY  $200   \n",
      "1         4680  2004-12-31  Jeopardy!  ESPN's TOP 10 ALL-TIME ATHLETES  $200   \n",
      "2         4680  2004-12-31  Jeopardy!      EVERYBODY TALKS ABOUT IT...  $200   \n",
      "3         4680  2004-12-31  Jeopardy!                 THE COMPANY LINE  $200   \n",
      "4         4680  2004-12-31  Jeopardy!              EPITAPHS & TRIBUTES  $200   \n",
      "\n",
      "                                                                                                      Question  \\\n",
      "0             For the last 8 years of his life, Galileo was under house arrest for espousing this man's theory   \n",
      "1  No. 2: 1912 Olympian; football star at Carlisle Indian School; 6 MLB seasons with the Reds, Giants & Braves   \n",
      "2                     The city of Yuma in this state has a record average of 4,055 hours of sunshine each year   \n",
      "3                         In 1963, live on \"The Art Linkletter Show\", this company served its billionth burger   \n",
      "4     Signer of the Dec. of Indep., framer of the Constitution of Mass., second President of the United States   \n",
      "\n",
      "       Answer  Floated_Value  \n",
      "0  Copernicus          200.0  \n",
      "1  Jim Thorpe          200.0  \n",
      "2     Arizona          200.0  \n",
      "3  McDonald's          200.0  \n",
      "4  John Adams          200.0  \n"
     ]
    }
   ],
   "source": [
    "float_value = lambda x: float(x.strip('$').replace(\",\",\"\")) if x!= \"None\" else 0\n",
    "jeopardy[\"Floated_Value\"] = jeopardy[\"Value\"].apply(float_value)\n",
    "print(jeopardy.head())"
   ]
  },
  {
   "cell_type": "code",
   "execution_count": 7,
   "id": "62b606d8",
   "metadata": {},
   "outputs": [
    {
     "name": "stdout",
     "output_type": "stream",
     "text": [
      "771.8833850722094\n"
     ]
    }
   ],
   "source": [
    "filtered_king = filtering_by_question(jeopardy, [\"King\"])\n",
    "print(filtered_king[\"Floated_Value\"].mean())"
   ]
  },
  {
   "cell_type": "code",
   "execution_count": 8,
   "id": "d68106c6",
   "metadata": {},
   "outputs": [
    {
     "name": "stdout",
     "output_type": "stream",
     "text": [
      "5268\n"
     ]
    }
   ],
   "source": [
    "def unique_answer_count(dataset):\n",
    "    return dataset[\"Answer\"].nunique()\n",
    "\n",
    "unique_answer_count_king = unique_answer_count(filtered_king)\n",
    "print(unique_answer_count_king)"
   ]
  },
  {
   "cell_type": "markdown",
   "id": "585e2b5e",
   "metadata": {},
   "source": [
    "# Investigate the ways in which questions change over time by filtering by the date. How many questions from the 90s use the word \"Computer\" compared to questions from the 2000s?"
   ]
  },
  {
   "cell_type": "code",
   "execution_count": 9,
   "id": "31f7b0c3",
   "metadata": {},
   "outputs": [],
   "source": [
    "year_extract = lambda x: x.split('-')[0]\n",
    "jeopardy[\"Year\"] = jeopardy[\"Air Date\"].apply(year_extract)"
   ]
  },
  {
   "cell_type": "code",
   "execution_count": 10,
   "id": "d4ca7c9c",
   "metadata": {},
   "outputs": [
    {
     "name": "stdout",
     "output_type": "stream",
     "text": [
      "      Show Number    Air Date             Round                Category  \\\n",
      "309          5690  2009-05-08         Jeopardy!  OLD FOLKS IN THEIR 30s   \n",
      "342          5690  2009-05-08  Double Jeopardy!          MATHEM-ATTACK!   \n",
      "1106         4085  2002-05-10  Double Jeopardy!      \"EN\" THE BEGINNING   \n",
      "1430         4960  2006-03-17         Jeopardy!   RECORD LOSSES IN 2005   \n",
      "2410         3214  1998-07-16         Jeopardy!  PRE-COLUMBIAN CULTURES   \n",
      "\n",
      "      Value  \\\n",
      "309    $600   \n",
      "342   $1200   \n",
      "1106   $800   \n",
      "1430   $200   \n",
      "2410   $500   \n",
      "\n",
      "                                                                                                                                                                                                                                                                                                                                                 Question  \\\n",
      "309                                                                                                                                                                                                                                                            Linus Torvalds is the father of this operating system used on cell phones & supercomputers   \n",
      "342   (<a href=\"http://www.j-archive.com/media/2009-05-08_DJ_28.jpg\" target=\"_blank\">Kelly of the Clue Crew shows an array of numbers enclosed in brackets on the monitor.</a>)  A set of numbers in rows and columns can be used in many ways--for example, to encrypt a code or create 3-D computer graphics; the set shares this name with a 1999 film   \n",
      "1106                                                                                                                                                                                                                                                                             2-word term for the consumer, for whom a computer is ultimately designed   \n",
      "1430                                                                                                                                                                                                                                               A computer with 98,000 names & SSNs was reported stolen from this oldest campus of the Univ. of Calif.   \n",
      "2410                                                                                                                                                                                                                                                               Warriors of this Yucatan civilization battle in the computer-enhanced mural seen here:   \n",
      "\n",
      "           Answer  Floated_Value  Year  \n",
      "309         Linux          600.0  2009  \n",
      "342      a matrix         1200.0  2009  \n",
      "1106  an end user          800.0  2002  \n",
      "1430     Berkeley          200.0  2006  \n",
      "2410       Mayans          500.0  1998  \n"
     ]
    }
   ],
   "source": [
    "filtered_computer = filtering_by_question(jeopardy, [\"Computer\"])\n",
    "print(filtered_computer.head())"
   ]
  },
  {
   "cell_type": "code",
   "execution_count": 11,
   "id": "3991c626",
   "metadata": {},
   "outputs": [
    {
     "name": "stdout",
     "output_type": "stream",
     "text": [
      "98\n",
      "268\n"
     ]
    }
   ],
   "source": [
    "filtered_computer_90s = filtered_computer[filtered_computer['Year'].str.startswith('199')]\n",
    "filtered_computer_00s = filtered_computer[filtered_computer['Year'].str.startswith('200')]\n",
    "\n",
    "print(filtered_computer_90s.Question.count())\n",
    "print(filtered_computer_00s.Question.count())\n"
   ]
  },
  {
   "cell_type": "markdown",
   "id": "01549c3f",
   "metadata": {},
   "source": [
    "# Is there a connection between the round and the category? Are you more likely to find certain categories, like \"Literature\" in Single Jeopardy or Double Jeopardy?"
   ]
  },
  {
   "cell_type": "code",
   "execution_count": 12,
   "id": "e44f49aa",
   "metadata": {},
   "outputs": [
    {
     "name": "stdout",
     "output_type": "stream",
     "text": [
      "105\n",
      "381\n"
     ]
    }
   ],
   "source": [
    "single_jeopardy_literature = jeopardy[(jeopardy['Category']==\"LITERATURE\") & (jeopardy['Round']=='Jeopardy!')]\n",
    "double_jeopardy_literature = jeopardy[(jeopardy['Category']==\"LITERATURE\") & (jeopardy['Round']=='Double Jeopardy!')]\n",
    "print(single_jeopardy_literature.Question.count())\n",
    "print(double_jeopardy_literature.Question.count())"
   ]
  },
  {
   "cell_type": "markdown",
   "id": "e973fa38",
   "metadata": {},
   "source": [
    "# Build a system to quiz yourself. Grab random questions, and use the input function to get a response from the user. Check to see if that response was right or wrong. \n"
   ]
  },
  {
   "cell_type": "code",
   "execution_count": 13,
   "id": "1d77a592",
   "metadata": {},
   "outputs": [],
   "source": [
    "# import random\n",
    "\n",
    "# #def quiz():\n",
    "#     index = random.randint(1,len(jeopardy)\n",
    "#     playing_status = input(\"Do you want to play? Yes or No\")\n",
    "#     while playing_status.lower() = \"yes\":\n",
    "#         print(jeopardy[\"Question\"][index])\n",
    "#         answer = input()\n",
    "#         if answer.lower() = jeopardy[\"Answer\"][index].lower():\n",
    "#             print(\"Correct.\")\n",
    "#         else:\n",
    "#             print(\"Incorrect. The correct answer is {}\".format(jeopardy[\"Answer\"][index])))\n",
    "#     print(\"Do you want to play? Yes or No\")\n",
    "#     playing_status = input()\n",
    "                \n",
    "\n"
   ]
  },
  {
   "cell_type": "code",
   "execution_count": null,
   "id": "5b701db9",
   "metadata": {},
   "outputs": [],
   "source": [
    "import random\n",
    "\n",
    "class playing_jeopardy():\n",
    "    def __init__(self, dataset):\n",
    "        i = random.randint(1,len(dataset))\n",
    "        self.i = i\n",
    "        self.dataset = dataset\n",
    "    def selecting_question(self):\n",
    "        return self.dataset[\"Question\"][self.i]\n",
    "    def right_answer(self):\n",
    "        return self.dataset[\"Answer\"][self.i]\n",
    "    \n",
    "number_correct = 0\n",
    "playing_status = input(\"Do you want to play: Yes or No   \")  \n",
    "\n",
    "while playing_status.lower()== \"yes\":\n",
    "    question = playing_jeopardy(jeopardy)\n",
    "    print(question.selecting_question())\n",
    "    answer = input(\"Enter your answer: \")\n",
    "    if answer.lower() == question.right_answer().lower():\n",
    "        number_correct = number_correct + 1 \n",
    "        print(\"Correct! You have {} answers correct so far.\".format(number_correct))\n",
    "    else:\n",
    "        print(\"Sorry the right answer is: {}\".format(question.right_answer()))\n",
    "        playing_status = input(\"Do you want to play: Yes or No   \") \n",
    "        "
   ]
  },
  {
   "cell_type": "code",
   "execution_count": null,
   "id": "0b98cc92",
   "metadata": {},
   "outputs": [],
   "source": []
  },
  {
   "cell_type": "code",
   "execution_count": null,
   "id": "70e08f85",
   "metadata": {},
   "outputs": [],
   "source": []
  }
 ],
 "metadata": {
  "kernelspec": {
   "display_name": "Python 3 (ipykernel)",
   "language": "python",
   "name": "python3"
  },
  "language_info": {
   "codemirror_mode": {
    "name": "ipython",
    "version": 3
   },
   "file_extension": ".py",
   "mimetype": "text/x-python",
   "name": "python",
   "nbconvert_exporter": "python",
   "pygments_lexer": "ipython3",
   "version": "3.9.7"
  }
 },
 "nbformat": 4,
 "nbformat_minor": 5
}
